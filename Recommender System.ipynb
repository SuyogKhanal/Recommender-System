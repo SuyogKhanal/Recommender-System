{
 "cells": [
  {
   "cell_type": "code",
   "execution_count": 1,
   "metadata": {
    "executionInfo": {
     "elapsed": 680,
     "status": "ok",
     "timestamp": 1623293379506,
     "user": {
      "displayName": "Suyog 8848",
      "photoUrl": "",
      "userId": "05362181243707880769"
     },
     "user_tz": -330
    },
    "id": "E1hDPPqiYIY5"
   },
   "outputs": [],
   "source": [
    "import numpy as np\n",
    "import pandas as pd\n",
    "import warnings\n",
    "warnings.filterwarnings('ignore')"
   ]
  },
  {
   "cell_type": "code",
   "execution_count": null,
   "metadata": {
    "colab": {
     "base_uri": "https://localhost:8080/"
    },
    "executionInfo": {
     "elapsed": 26,
     "status": "ok",
     "timestamp": 1623293380713,
     "user": {
      "displayName": "Suyog 8848",
      "photoUrl": "",
      "userId": "05362181243707880769"
     },
     "user_tz": -330
    },
    "id": "IcgkC9nKo--j",
    "outputId": "4f715f46-4dfd-47b7-d8f2-cc1bad2f6934"
   },
   "outputs": [],
   "source": []
  },
  {
   "cell_type": "code",
   "execution_count": 2,
   "metadata": {
    "colab": {
     "base_uri": "https://localhost:8080/",
     "height": 204
    },
    "executionInfo": {
     "elapsed": 24,
     "status": "ok",
     "timestamp": 1623293380716,
     "user": {
      "displayName": "Suyog 8848",
      "photoUrl": "",
      "userId": "05362181243707880769"
     },
     "user_tz": -330
    },
    "id": "tJk2wMIQYM_p",
    "outputId": "c6935c36-8576-41ec-95ab-b3e9dbc604c0"
   },
   "outputs": [
    {
     "data": {
      "text/html": [
       "<div>\n",
       "<style scoped>\n",
       "    .dataframe tbody tr th:only-of-type {\n",
       "        vertical-align: middle;\n",
       "    }\n",
       "\n",
       "    .dataframe tbody tr th {\n",
       "        vertical-align: top;\n",
       "    }\n",
       "\n",
       "    .dataframe thead th {\n",
       "        text-align: right;\n",
       "    }\n",
       "</style>\n",
       "<table border=\"1\" class=\"dataframe\">\n",
       "  <thead>\n",
       "    <tr style=\"text-align: right;\">\n",
       "      <th></th>\n",
       "      <th>0</th>\n",
       "      <th>1</th>\n",
       "      <th>2</th>\n",
       "    </tr>\n",
       "  </thead>\n",
       "  <tbody>\n",
       "    <tr>\n",
       "      <th>0</th>\n",
       "      <td>1</td>\n",
       "      <td>Toy Story (1995)</td>\n",
       "      <td>Adventure|Animation|Children|Comedy|Fantasy</td>\n",
       "    </tr>\n",
       "    <tr>\n",
       "      <th>1</th>\n",
       "      <td>2</td>\n",
       "      <td>Jumanji (1995)</td>\n",
       "      <td>Adventure|Children|Fantasy</td>\n",
       "    </tr>\n",
       "    <tr>\n",
       "      <th>2</th>\n",
       "      <td>3</td>\n",
       "      <td>Grumpier Old Men (1995)</td>\n",
       "      <td>Comedy|Romance</td>\n",
       "    </tr>\n",
       "    <tr>\n",
       "      <th>3</th>\n",
       "      <td>4</td>\n",
       "      <td>Waiting to Exhale (1995)</td>\n",
       "      <td>Comedy|Drama|Romance</td>\n",
       "    </tr>\n",
       "    <tr>\n",
       "      <th>4</th>\n",
       "      <td>5</td>\n",
       "      <td>Father of the Bride Part II (1995)</td>\n",
       "      <td>Comedy</td>\n",
       "    </tr>\n",
       "  </tbody>\n",
       "</table>\n",
       "</div>"
      ],
      "text/plain": [
       "   0                                   1  \\\n",
       "0  1                    Toy Story (1995)   \n",
       "1  2                      Jumanji (1995)   \n",
       "2  3             Grumpier Old Men (1995)   \n",
       "3  4            Waiting to Exhale (1995)   \n",
       "4  5  Father of the Bride Part II (1995)   \n",
       "\n",
       "                                             2  \n",
       "0  Adventure|Animation|Children|Comedy|Fantasy  \n",
       "1                   Adventure|Children|Fantasy  \n",
       "2                               Comedy|Romance  \n",
       "3                         Comedy|Drama|Romance  \n",
       "4                                       Comedy  "
      ]
     },
     "execution_count": 2,
     "metadata": {},
     "output_type": "execute_result"
    }
   ],
   "source": [
    "data1 = pd.read_csv('movies.dat', sep = '::', header= None)\n",
    "data1.head()"
   ]
  },
  {
   "cell_type": "code",
   "execution_count": 3,
   "metadata": {
    "executionInfo": {
     "elapsed": 22,
     "status": "ok",
     "timestamp": 1623293380717,
     "user": {
      "displayName": "Suyog 8848",
      "photoUrl": "",
      "userId": "05362181243707880769"
     },
     "user_tz": -330
    },
    "id": "Gocb6R_jYIY7"
   },
   "outputs": [],
   "source": [
    "data1.columns = ['Movie_ID','Movie_Title','Genre']"
   ]
  },
  {
   "cell_type": "code",
   "execution_count": 4,
   "metadata": {
    "colab": {
     "base_uri": "https://localhost:8080/",
     "height": 204
    },
    "executionInfo": {
     "elapsed": 22,
     "status": "ok",
     "timestamp": 1623293380718,
     "user": {
      "displayName": "Suyog 8848",
      "photoUrl": "",
      "userId": "05362181243707880769"
     },
     "user_tz": -330
    },
    "id": "hNCPTMfuYIY_",
    "outputId": "44034e83-fd8d-4eba-caec-0b75c552f5fa"
   },
   "outputs": [
    {
     "data": {
      "text/html": [
       "<div>\n",
       "<style scoped>\n",
       "    .dataframe tbody tr th:only-of-type {\n",
       "        vertical-align: middle;\n",
       "    }\n",
       "\n",
       "    .dataframe tbody tr th {\n",
       "        vertical-align: top;\n",
       "    }\n",
       "\n",
       "    .dataframe thead th {\n",
       "        text-align: right;\n",
       "    }\n",
       "</style>\n",
       "<table border=\"1\" class=\"dataframe\">\n",
       "  <thead>\n",
       "    <tr style=\"text-align: right;\">\n",
       "      <th></th>\n",
       "      <th>Movie_ID</th>\n",
       "      <th>Movie_Title</th>\n",
       "      <th>Genre</th>\n",
       "    </tr>\n",
       "  </thead>\n",
       "  <tbody>\n",
       "    <tr>\n",
       "      <th>10676</th>\n",
       "      <td>65088</td>\n",
       "      <td>Bedtime Stories (2008)</td>\n",
       "      <td>Adventure|Children|Comedy</td>\n",
       "    </tr>\n",
       "    <tr>\n",
       "      <th>10677</th>\n",
       "      <td>65091</td>\n",
       "      <td>Manhattan Melodrama (1934)</td>\n",
       "      <td>Crime|Drama|Romance</td>\n",
       "    </tr>\n",
       "    <tr>\n",
       "      <th>10678</th>\n",
       "      <td>65126</td>\n",
       "      <td>Choke (2008)</td>\n",
       "      <td>Comedy|Drama</td>\n",
       "    </tr>\n",
       "    <tr>\n",
       "      <th>10679</th>\n",
       "      <td>65130</td>\n",
       "      <td>Revolutionary Road (2008)</td>\n",
       "      <td>Drama|Romance</td>\n",
       "    </tr>\n",
       "    <tr>\n",
       "      <th>10680</th>\n",
       "      <td>65133</td>\n",
       "      <td>Blackadder Back &amp; Forth (1999)</td>\n",
       "      <td>Comedy</td>\n",
       "    </tr>\n",
       "  </tbody>\n",
       "</table>\n",
       "</div>"
      ],
      "text/plain": [
       "       Movie_ID                     Movie_Title                      Genre\n",
       "10676     65088          Bedtime Stories (2008)  Adventure|Children|Comedy\n",
       "10677     65091      Manhattan Melodrama (1934)        Crime|Drama|Romance\n",
       "10678     65126                    Choke (2008)               Comedy|Drama\n",
       "10679     65130       Revolutionary Road (2008)              Drama|Romance\n",
       "10680     65133  Blackadder Back & Forth (1999)                     Comedy"
      ]
     },
     "execution_count": 4,
     "metadata": {},
     "output_type": "execute_result"
    }
   ],
   "source": [
    "data1.tail()"
   ]
  },
  {
   "cell_type": "code",
   "execution_count": 5,
   "metadata": {
    "colab": {
     "base_uri": "https://localhost:8080/",
     "height": 204
    },
    "executionInfo": {
     "elapsed": 43089,
     "status": "ok",
     "timestamp": 1623293423787,
     "user": {
      "displayName": "Suyog 8848",
      "photoUrl": "",
      "userId": "05362181243707880769"
     },
     "user_tz": -330
    },
    "id": "paRMYlSdaNXD",
    "outputId": "3358b0eb-35c9-4086-e0b9-5278b0cb4b0b"
   },
   "outputs": [
    {
     "data": {
      "text/html": [
       "<div>\n",
       "<style scoped>\n",
       "    .dataframe tbody tr th:only-of-type {\n",
       "        vertical-align: middle;\n",
       "    }\n",
       "\n",
       "    .dataframe tbody tr th {\n",
       "        vertical-align: top;\n",
       "    }\n",
       "\n",
       "    .dataframe thead th {\n",
       "        text-align: right;\n",
       "    }\n",
       "</style>\n",
       "<table border=\"1\" class=\"dataframe\">\n",
       "  <thead>\n",
       "    <tr style=\"text-align: right;\">\n",
       "      <th></th>\n",
       "      <th>User_ID</th>\n",
       "      <th>Movie_ID</th>\n",
       "      <th>Rating</th>\n",
       "      <th>Timestamp</th>\n",
       "    </tr>\n",
       "  </thead>\n",
       "  <tbody>\n",
       "    <tr>\n",
       "      <th>0</th>\n",
       "      <td>1</td>\n",
       "      <td>122</td>\n",
       "      <td>5.0</td>\n",
       "      <td>838985046</td>\n",
       "    </tr>\n",
       "    <tr>\n",
       "      <th>1</th>\n",
       "      <td>1</td>\n",
       "      <td>185</td>\n",
       "      <td>5.0</td>\n",
       "      <td>838983525</td>\n",
       "    </tr>\n",
       "    <tr>\n",
       "      <th>2</th>\n",
       "      <td>1</td>\n",
       "      <td>231</td>\n",
       "      <td>5.0</td>\n",
       "      <td>838983392</td>\n",
       "    </tr>\n",
       "    <tr>\n",
       "      <th>3</th>\n",
       "      <td>1</td>\n",
       "      <td>292</td>\n",
       "      <td>5.0</td>\n",
       "      <td>838983421</td>\n",
       "    </tr>\n",
       "    <tr>\n",
       "      <th>4</th>\n",
       "      <td>1</td>\n",
       "      <td>316</td>\n",
       "      <td>5.0</td>\n",
       "      <td>838983392</td>\n",
       "    </tr>\n",
       "  </tbody>\n",
       "</table>\n",
       "</div>"
      ],
      "text/plain": [
       "   User_ID  Movie_ID  Rating  Timestamp\n",
       "0        1       122     5.0  838985046\n",
       "1        1       185     5.0  838983525\n",
       "2        1       231     5.0  838983392\n",
       "3        1       292     5.0  838983421\n",
       "4        1       316     5.0  838983392"
      ]
     },
     "execution_count": 5,
     "metadata": {},
     "output_type": "execute_result"
    }
   ],
   "source": [
    "data2 = pd.read_csv('ratings.dat',sep = '::', names = ['User_ID','Movie_ID','Rating','Timestamp'])\n",
    "data2.head()"
   ]
  },
  {
   "cell_type": "code",
   "execution_count": 6,
   "metadata": {
    "colab": {
     "base_uri": "https://localhost:8080/"
    },
    "executionInfo": {
     "elapsed": 24,
     "status": "ok",
     "timestamp": 1623293423789,
     "user": {
      "displayName": "Suyog 8848",
      "photoUrl": "",
      "userId": "05362181243707880769"
     },
     "user_tz": -330
    },
    "id": "It4s9ZHtart-",
    "outputId": "69576936-f315-4983-ee44-07d8b8a74781"
   },
   "outputs": [
    {
     "data": {
      "text/plain": [
       "(10681, 3)"
      ]
     },
     "execution_count": 6,
     "metadata": {},
     "output_type": "execute_result"
    }
   ],
   "source": [
    "data1.shape"
   ]
  },
  {
   "cell_type": "code",
   "execution_count": 7,
   "metadata": {
    "colab": {
     "base_uri": "https://localhost:8080/"
    },
    "executionInfo": {
     "elapsed": 18,
     "status": "ok",
     "timestamp": 1623293423790,
     "user": {
      "displayName": "Suyog 8848",
      "photoUrl": "",
      "userId": "05362181243707880769"
     },
     "user_tz": -330
    },
    "id": "5opli1ZJpdVD",
    "outputId": "4f5186d9-576a-43de-a86a-a5835efff5e8"
   },
   "outputs": [
    {
     "data": {
      "text/plain": [
       "(10000054, 4)"
      ]
     },
     "execution_count": 7,
     "metadata": {},
     "output_type": "execute_result"
    }
   ],
   "source": [
    "data2.shape"
   ]
  },
  {
   "cell_type": "code",
   "execution_count": 8,
   "metadata": {
    "executionInfo": {
     "elapsed": 1827,
     "status": "ok",
     "timestamp": 1623293425605,
     "user": {
      "displayName": "Suyog 8848",
      "photoUrl": "",
      "userId": "05362181243707880769"
     },
     "user_tz": -330
    },
    "id": "NRzM4fejpeWi"
   },
   "outputs": [],
   "source": [
    "data = pd.merge(data2, data1, on = 'Movie_ID')"
   ]
  },
  {
   "cell_type": "code",
   "execution_count": 9,
   "metadata": {
    "colab": {
     "base_uri": "https://localhost:8080/",
     "height": 359
    },
    "executionInfo": {
     "elapsed": 29,
     "status": "ok",
     "timestamp": 1623293425623,
     "user": {
      "displayName": "Suyog 8848",
      "photoUrl": "",
      "userId": "05362181243707880769"
     },
     "user_tz": -330
    },
    "id": "9D-bzo68pqSQ",
    "outputId": "4d898167-2c89-4198-d666-82b0cde4684f"
   },
   "outputs": [
    {
     "data": {
      "text/html": [
       "<div>\n",
       "<style scoped>\n",
       "    .dataframe tbody tr th:only-of-type {\n",
       "        vertical-align: middle;\n",
       "    }\n",
       "\n",
       "    .dataframe tbody tr th {\n",
       "        vertical-align: top;\n",
       "    }\n",
       "\n",
       "    .dataframe thead th {\n",
       "        text-align: right;\n",
       "    }\n",
       "</style>\n",
       "<table border=\"1\" class=\"dataframe\">\n",
       "  <thead>\n",
       "    <tr style=\"text-align: right;\">\n",
       "      <th></th>\n",
       "      <th>User_ID</th>\n",
       "      <th>Movie_ID</th>\n",
       "      <th>Rating</th>\n",
       "      <th>Timestamp</th>\n",
       "      <th>Movie_Title</th>\n",
       "      <th>Genre</th>\n",
       "    </tr>\n",
       "  </thead>\n",
       "  <tbody>\n",
       "    <tr>\n",
       "      <th>0</th>\n",
       "      <td>1</td>\n",
       "      <td>122</td>\n",
       "      <td>5.0</td>\n",
       "      <td>838985046</td>\n",
       "      <td>Boomerang (1992)</td>\n",
       "      <td>Comedy|Romance</td>\n",
       "    </tr>\n",
       "    <tr>\n",
       "      <th>1</th>\n",
       "      <td>139</td>\n",
       "      <td>122</td>\n",
       "      <td>3.0</td>\n",
       "      <td>974302621</td>\n",
       "      <td>Boomerang (1992)</td>\n",
       "      <td>Comedy|Romance</td>\n",
       "    </tr>\n",
       "    <tr>\n",
       "      <th>2</th>\n",
       "      <td>149</td>\n",
       "      <td>122</td>\n",
       "      <td>2.5</td>\n",
       "      <td>1112342322</td>\n",
       "      <td>Boomerang (1992)</td>\n",
       "      <td>Comedy|Romance</td>\n",
       "    </tr>\n",
       "    <tr>\n",
       "      <th>3</th>\n",
       "      <td>182</td>\n",
       "      <td>122</td>\n",
       "      <td>3.0</td>\n",
       "      <td>943458784</td>\n",
       "      <td>Boomerang (1992)</td>\n",
       "      <td>Comedy|Romance</td>\n",
       "    </tr>\n",
       "    <tr>\n",
       "      <th>4</th>\n",
       "      <td>215</td>\n",
       "      <td>122</td>\n",
       "      <td>4.5</td>\n",
       "      <td>1102493547</td>\n",
       "      <td>Boomerang (1992)</td>\n",
       "      <td>Comedy|Romance</td>\n",
       "    </tr>\n",
       "    <tr>\n",
       "      <th>5</th>\n",
       "      <td>217</td>\n",
       "      <td>122</td>\n",
       "      <td>3.0</td>\n",
       "      <td>844429650</td>\n",
       "      <td>Boomerang (1992)</td>\n",
       "      <td>Comedy|Romance</td>\n",
       "    </tr>\n",
       "    <tr>\n",
       "      <th>6</th>\n",
       "      <td>281</td>\n",
       "      <td>122</td>\n",
       "      <td>3.0</td>\n",
       "      <td>844437024</td>\n",
       "      <td>Boomerang (1992)</td>\n",
       "      <td>Comedy|Romance</td>\n",
       "    </tr>\n",
       "    <tr>\n",
       "      <th>7</th>\n",
       "      <td>326</td>\n",
       "      <td>122</td>\n",
       "      <td>3.0</td>\n",
       "      <td>838997566</td>\n",
       "      <td>Boomerang (1992)</td>\n",
       "      <td>Comedy|Romance</td>\n",
       "    </tr>\n",
       "    <tr>\n",
       "      <th>8</th>\n",
       "      <td>351</td>\n",
       "      <td>122</td>\n",
       "      <td>1.0</td>\n",
       "      <td>955831012</td>\n",
       "      <td>Boomerang (1992)</td>\n",
       "      <td>Comedy|Romance</td>\n",
       "    </tr>\n",
       "    <tr>\n",
       "      <th>9</th>\n",
       "      <td>357</td>\n",
       "      <td>122</td>\n",
       "      <td>3.0</td>\n",
       "      <td>945884437</td>\n",
       "      <td>Boomerang (1992)</td>\n",
       "      <td>Comedy|Romance</td>\n",
       "    </tr>\n",
       "  </tbody>\n",
       "</table>\n",
       "</div>"
      ],
      "text/plain": [
       "   User_ID  Movie_ID  Rating   Timestamp       Movie_Title           Genre\n",
       "0        1       122     5.0   838985046  Boomerang (1992)  Comedy|Romance\n",
       "1      139       122     3.0   974302621  Boomerang (1992)  Comedy|Romance\n",
       "2      149       122     2.5  1112342322  Boomerang (1992)  Comedy|Romance\n",
       "3      182       122     3.0   943458784  Boomerang (1992)  Comedy|Romance\n",
       "4      215       122     4.5  1102493547  Boomerang (1992)  Comedy|Romance\n",
       "5      217       122     3.0   844429650  Boomerang (1992)  Comedy|Romance\n",
       "6      281       122     3.0   844437024  Boomerang (1992)  Comedy|Romance\n",
       "7      326       122     3.0   838997566  Boomerang (1992)  Comedy|Romance\n",
       "8      351       122     1.0   955831012  Boomerang (1992)  Comedy|Romance\n",
       "9      357       122     3.0   945884437  Boomerang (1992)  Comedy|Romance"
      ]
     },
     "execution_count": 9,
     "metadata": {},
     "output_type": "execute_result"
    }
   ],
   "source": [
    "data.head(10)"
   ]
  },
  {
   "cell_type": "code",
   "execution_count": 10,
   "metadata": {
    "colab": {
     "base_uri": "https://localhost:8080/"
    },
    "executionInfo": {
     "elapsed": 29,
     "status": "ok",
     "timestamp": 1623293425625,
     "user": {
      "displayName": "Suyog 8848",
      "photoUrl": "",
      "userId": "05362181243707880769"
     },
     "user_tz": -330
    },
    "id": "36h1slICpsDU",
    "outputId": "b4237f6f-86c5-43d0-9b00-75efe9bb2977"
   },
   "outputs": [
    {
     "data": {
      "text/plain": [
       "(10000054, 6)"
      ]
     },
     "execution_count": 10,
     "metadata": {},
     "output_type": "execute_result"
    }
   ],
   "source": [
    "data.shape"
   ]
  },
  {
   "cell_type": "code",
   "execution_count": 11,
   "metadata": {
    "colab": {
     "base_uri": "https://localhost:8080/"
    },
    "executionInfo": {
     "elapsed": 1012,
     "status": "ok",
     "timestamp": 1623293426615,
     "user": {
      "displayName": "Suyog 8848",
      "photoUrl": "",
      "userId": "05362181243707880769"
     },
     "user_tz": -330
    },
    "id": "mpNLFPx_qjA_",
    "outputId": "a535bcf9-4b56-4ddb-dfeb-ea739980ffa9"
   },
   "outputs": [
    {
     "data": {
      "text/plain": [
       "Movie_Title\n",
       "\"Great Performances\" Cats (1998)                 3.583333\n",
       "'Round Midnight (1986)                           3.720000\n",
       "'Til There Was You (1997)                        2.837748\n",
       "'burbs, The (1989)                               2.969415\n",
       "'night Mother (1986)                             3.450237\n",
       "                                                   ...   \n",
       "eXistenZ (1999)                                  3.316369\n",
       "ffolks (a.k.a. North Sea Hijack) (1980)          3.051724\n",
       "loudQUIETloud: A Film About the Pixies (2006)    3.750000\n",
       "xXx: State of the Union (2005)                   2.244582\n",
       "Ã‚ge d'or, L' (1930)                             3.585106\n",
       "Name: Rating, Length: 10676, dtype: float64"
      ]
     },
     "execution_count": 11,
     "metadata": {},
     "output_type": "execute_result"
    }
   ],
   "source": [
    "data.groupby('Movie_Title').mean()['Rating']"
   ]
  },
  {
   "cell_type": "code",
   "execution_count": 12,
   "metadata": {
    "colab": {
     "base_uri": "https://localhost:8080/"
    },
    "executionInfo": {
     "elapsed": 960,
     "status": "ok",
     "timestamp": 1623293427572,
     "user": {
      "displayName": "Suyog 8848",
      "photoUrl": "",
      "userId": "05362181243707880769"
     },
     "user_tz": -330
    },
    "id": "sB6VkgIrtvOs",
    "outputId": "dc7a553f-be01-4df8-bca1-94a780046a32"
   },
   "outputs": [
    {
     "data": {
      "text/plain": [
       "Movie_Title\n",
       "\"Great Performances\" Cats (1998)                    6\n",
       "'Round Midnight (1986)                             50\n",
       "'Til There Was You (1997)                         302\n",
       "'burbs, The (1989)                               1504\n",
       "'night Mother (1986)                              211\n",
       "                                                 ... \n",
       "eXistenZ (1999)                                  2908\n",
       "ffolks (a.k.a. North Sea Hijack) (1980)            29\n",
       "loudQUIETloud: A Film About the Pixies (2006)       8\n",
       "xXx: State of the Union (2005)                    323\n",
       "Ã‚ge d'or, L' (1930)                               47\n",
       "Name: Rating, Length: 10676, dtype: int64"
      ]
     },
     "execution_count": 12,
     "metadata": {},
     "output_type": "execute_result"
    }
   ],
   "source": [
    "data.groupby('Movie_Title').count()['Rating']"
   ]
  },
  {
   "cell_type": "code",
   "execution_count": 13,
   "metadata": {
    "executionInfo": {
     "elapsed": 833,
     "status": "ok",
     "timestamp": 1623293428401,
     "user": {
      "displayName": "Suyog 8848",
      "photoUrl": "",
      "userId": "05362181243707880769"
     },
     "user_tz": -330
    },
    "id": "MVQhE_G_B9FM"
   },
   "outputs": [],
   "source": [
    "a_data = pd.DataFrame(data.groupby('Movie_Title').mean()['Rating'])"
   ]
  },
  {
   "cell_type": "code",
   "execution_count": 14,
   "metadata": {
    "colab": {
     "base_uri": "https://localhost:8080/",
     "height": 450
    },
    "executionInfo": {
     "elapsed": 7,
     "status": "ok",
     "timestamp": 1623293428402,
     "user": {
      "displayName": "Suyog 8848",
      "photoUrl": "",
      "userId": "05362181243707880769"
     },
     "user_tz": -330
    },
    "id": "_Z7t02-2CVrk",
    "outputId": "6a757dce-17dc-4afe-eb5a-35b45a6b87e4"
   },
   "outputs": [
    {
     "data": {
      "text/html": [
       "<div>\n",
       "<style scoped>\n",
       "    .dataframe tbody tr th:only-of-type {\n",
       "        vertical-align: middle;\n",
       "    }\n",
       "\n",
       "    .dataframe tbody tr th {\n",
       "        vertical-align: top;\n",
       "    }\n",
       "\n",
       "    .dataframe thead th {\n",
       "        text-align: right;\n",
       "    }\n",
       "</style>\n",
       "<table border=\"1\" class=\"dataframe\">\n",
       "  <thead>\n",
       "    <tr style=\"text-align: right;\">\n",
       "      <th></th>\n",
       "      <th>Rating</th>\n",
       "    </tr>\n",
       "    <tr>\n",
       "      <th>Movie_Title</th>\n",
       "      <th></th>\n",
       "    </tr>\n",
       "  </thead>\n",
       "  <tbody>\n",
       "    <tr>\n",
       "      <th>\"Great Performances\" Cats (1998)</th>\n",
       "      <td>3.583333</td>\n",
       "    </tr>\n",
       "    <tr>\n",
       "      <th>'Round Midnight (1986)</th>\n",
       "      <td>3.720000</td>\n",
       "    </tr>\n",
       "    <tr>\n",
       "      <th>'Til There Was You (1997)</th>\n",
       "      <td>2.837748</td>\n",
       "    </tr>\n",
       "    <tr>\n",
       "      <th>'burbs, The (1989)</th>\n",
       "      <td>2.969415</td>\n",
       "    </tr>\n",
       "    <tr>\n",
       "      <th>'night Mother (1986)</th>\n",
       "      <td>3.450237</td>\n",
       "    </tr>\n",
       "    <tr>\n",
       "      <th>...</th>\n",
       "      <td>...</td>\n",
       "    </tr>\n",
       "    <tr>\n",
       "      <th>eXistenZ (1999)</th>\n",
       "      <td>3.316369</td>\n",
       "    </tr>\n",
       "    <tr>\n",
       "      <th>ffolks (a.k.a. North Sea Hijack) (1980)</th>\n",
       "      <td>3.051724</td>\n",
       "    </tr>\n",
       "    <tr>\n",
       "      <th>loudQUIETloud: A Film About the Pixies (2006)</th>\n",
       "      <td>3.750000</td>\n",
       "    </tr>\n",
       "    <tr>\n",
       "      <th>xXx: State of the Union (2005)</th>\n",
       "      <td>2.244582</td>\n",
       "    </tr>\n",
       "    <tr>\n",
       "      <th>Ã‚ge d'or, L' (1930)</th>\n",
       "      <td>3.585106</td>\n",
       "    </tr>\n",
       "  </tbody>\n",
       "</table>\n",
       "<p>10676 rows × 1 columns</p>\n",
       "</div>"
      ],
      "text/plain": [
       "                                                 Rating\n",
       "Movie_Title                                            \n",
       "\"Great Performances\" Cats (1998)               3.583333\n",
       "'Round Midnight (1986)                         3.720000\n",
       "'Til There Was You (1997)                      2.837748\n",
       "'burbs, The (1989)                             2.969415\n",
       "'night Mother (1986)                           3.450237\n",
       "...                                                 ...\n",
       "eXistenZ (1999)                                3.316369\n",
       "ffolks (a.k.a. North Sea Hijack) (1980)        3.051724\n",
       "loudQUIETloud: A Film About the Pixies (2006)  3.750000\n",
       "xXx: State of the Union (2005)                 2.244582\n",
       "Ã‚ge d'or, L' (1930)                           3.585106\n",
       "\n",
       "[10676 rows x 1 columns]"
      ]
     },
     "execution_count": 14,
     "metadata": {},
     "output_type": "execute_result"
    }
   ],
   "source": [
    "a_data"
   ]
  },
  {
   "cell_type": "code",
   "execution_count": 15,
   "metadata": {
    "executionInfo": {
     "elapsed": 1928,
     "status": "ok",
     "timestamp": 1623293430325,
     "user": {
      "displayName": "Suyog 8848",
      "photoUrl": "",
      "userId": "05362181243707880769"
     },
     "user_tz": -330
    },
    "id": "mg7RcmZNCW3H"
   },
   "outputs": [],
   "source": [
    "a_data['Rating_Count'] = data.groupby('Movie_Title').count()['Rating']"
   ]
  },
  {
   "cell_type": "code",
   "execution_count": 16,
   "metadata": {
    "colab": {
     "base_uri": "https://localhost:8080/",
     "height": 450
    },
    "executionInfo": {
     "elapsed": 10,
     "status": "ok",
     "timestamp": 1623293430326,
     "user": {
      "displayName": "Suyog 8848",
      "photoUrl": "",
      "userId": "05362181243707880769"
     },
     "user_tz": -330
    },
    "id": "Xan2nSH0F_vD",
    "outputId": "fa737034-5713-43c8-e8d4-7e644d5e9e07"
   },
   "outputs": [
    {
     "data": {
      "text/html": [
       "<div>\n",
       "<style scoped>\n",
       "    .dataframe tbody tr th:only-of-type {\n",
       "        vertical-align: middle;\n",
       "    }\n",
       "\n",
       "    .dataframe tbody tr th {\n",
       "        vertical-align: top;\n",
       "    }\n",
       "\n",
       "    .dataframe thead th {\n",
       "        text-align: right;\n",
       "    }\n",
       "</style>\n",
       "<table border=\"1\" class=\"dataframe\">\n",
       "  <thead>\n",
       "    <tr style=\"text-align: right;\">\n",
       "      <th></th>\n",
       "      <th>Rating</th>\n",
       "      <th>Rating_Count</th>\n",
       "    </tr>\n",
       "    <tr>\n",
       "      <th>Movie_Title</th>\n",
       "      <th></th>\n",
       "      <th></th>\n",
       "    </tr>\n",
       "  </thead>\n",
       "  <tbody>\n",
       "    <tr>\n",
       "      <th>\"Great Performances\" Cats (1998)</th>\n",
       "      <td>3.583333</td>\n",
       "      <td>6</td>\n",
       "    </tr>\n",
       "    <tr>\n",
       "      <th>'Round Midnight (1986)</th>\n",
       "      <td>3.720000</td>\n",
       "      <td>50</td>\n",
       "    </tr>\n",
       "    <tr>\n",
       "      <th>'Til There Was You (1997)</th>\n",
       "      <td>2.837748</td>\n",
       "      <td>302</td>\n",
       "    </tr>\n",
       "    <tr>\n",
       "      <th>'burbs, The (1989)</th>\n",
       "      <td>2.969415</td>\n",
       "      <td>1504</td>\n",
       "    </tr>\n",
       "    <tr>\n",
       "      <th>'night Mother (1986)</th>\n",
       "      <td>3.450237</td>\n",
       "      <td>211</td>\n",
       "    </tr>\n",
       "    <tr>\n",
       "      <th>...</th>\n",
       "      <td>...</td>\n",
       "      <td>...</td>\n",
       "    </tr>\n",
       "    <tr>\n",
       "      <th>eXistenZ (1999)</th>\n",
       "      <td>3.316369</td>\n",
       "      <td>2908</td>\n",
       "    </tr>\n",
       "    <tr>\n",
       "      <th>ffolks (a.k.a. North Sea Hijack) (1980)</th>\n",
       "      <td>3.051724</td>\n",
       "      <td>29</td>\n",
       "    </tr>\n",
       "    <tr>\n",
       "      <th>loudQUIETloud: A Film About the Pixies (2006)</th>\n",
       "      <td>3.750000</td>\n",
       "      <td>8</td>\n",
       "    </tr>\n",
       "    <tr>\n",
       "      <th>xXx: State of the Union (2005)</th>\n",
       "      <td>2.244582</td>\n",
       "      <td>323</td>\n",
       "    </tr>\n",
       "    <tr>\n",
       "      <th>Ã‚ge d'or, L' (1930)</th>\n",
       "      <td>3.585106</td>\n",
       "      <td>47</td>\n",
       "    </tr>\n",
       "  </tbody>\n",
       "</table>\n",
       "<p>10676 rows × 2 columns</p>\n",
       "</div>"
      ],
      "text/plain": [
       "                                                 Rating  Rating_Count\n",
       "Movie_Title                                                          \n",
       "\"Great Performances\" Cats (1998)               3.583333             6\n",
       "'Round Midnight (1986)                         3.720000            50\n",
       "'Til There Was You (1997)                      2.837748           302\n",
       "'burbs, The (1989)                             2.969415          1504\n",
       "'night Mother (1986)                           3.450237           211\n",
       "...                                                 ...           ...\n",
       "eXistenZ (1999)                                3.316369          2908\n",
       "ffolks (a.k.a. North Sea Hijack) (1980)        3.051724            29\n",
       "loudQUIETloud: A Film About the Pixies (2006)  3.750000             8\n",
       "xXx: State of the Union (2005)                 2.244582           323\n",
       "Ã‚ge d'or, L' (1930)                           3.585106            47\n",
       "\n",
       "[10676 rows x 2 columns]"
      ]
     },
     "execution_count": 16,
     "metadata": {},
     "output_type": "execute_result"
    }
   ],
   "source": [
    "a_data"
   ]
  },
  {
   "cell_type": "code",
   "execution_count": 17,
   "metadata": {
    "executionInfo": {
     "elapsed": 11,
     "status": "ok",
     "timestamp": 1623293430329,
     "user": {
      "displayName": "Suyog 8848",
      "photoUrl": "",
      "userId": "05362181243707880769"
     },
     "user_tz": -330
    },
    "id": "nDFBOGqBGAn7"
   },
   "outputs": [],
   "source": [
    "import matplotlib.pyplot as plt\n",
    "import seaborn as sns\n",
    "sns.set_style('darkgrid')"
   ]
  },
  {
   "cell_type": "code",
   "execution_count": 18,
   "metadata": {
    "colab": {
     "base_uri": "https://localhost:8080/",
     "height": 265
    },
    "executionInfo": {
     "elapsed": 894,
     "status": "ok",
     "timestamp": 1623293431212,
     "user": {
      "displayName": "Suyog 8848",
      "photoUrl": "",
      "userId": "05362181243707880769"
     },
     "user_tz": -330
    },
    "id": "cFT_RiY1GSDI",
    "outputId": "993962bb-8957-457e-a7ca-66e1290a4ac1"
   },
   "outputs": [
    {
     "data": {
      "image/png": "[encoded data removed]",
      "text/plain": [
       "<Figure size 432x288 with 1 Axes>"
      ]
     },
     "metadata": {},
     "output_type": "display_data"
    }
   ],
   "source": [
    "plt.hist(a_data['Rating'], bins = 90)\n",
    "plt.show()"
   ]
  },
  {
   "cell_type": "code",
   "execution_count": 19,
   "metadata": {
    "colab": {
     "base_uri": "https://localhost:8080/",
     "height": 265
    },
    "executionInfo": {
     "elapsed": 10,
     "status": "ok",
     "timestamp": 1623293431213,
     "user": {
      "displayName": "Suyog 8848",
      "photoUrl": "",
      "userId": "05362181243707880769"
     },
     "user_tz": -330
    },
    "id": "Dicchd_1G1p9",
    "outputId": "26cbab20-417b-4b35-ccb5-19ee9beb73d6"
   },
   "outputs": [
    {
     "data": {
      "image/png": "[encoded data removed]",
      "text/plain": [
       "<Figure size 432x288 with 1 Axes>"
      ]
     },
     "metadata": {},
     "output_type": "display_data"
    }
   ],
   "source": [
    "plt.hist(a_data['Rating_Count'], bins = 30)\n",
    "plt.show()"
   ]
  },
  {
   "cell_type": "code",
   "execution_count": 20,
   "metadata": {
    "colab": {
     "base_uri": "https://localhost:8080/",
     "height": 458
    },
    "executionInfo": {
     "elapsed": 2696,
     "status": "ok",
     "timestamp": 1623293433900,
     "user": {
      "displayName": "Suyog 8848",
      "photoUrl": "",
      "userId": "05362181243707880769"
     },
     "user_tz": -330
    },
    "id": "8ei58T-Jssfa",
    "outputId": "dbd5a231-d5ec-40a6-fdba-e9c80881fbbd"
   },
   "outputs": [
    {
     "data": {
      "text/plain": [
       "<seaborn.axisgrid.JointGrid at 0x25594e9fe80>"
      ]
     },
     "execution_count": 20,
     "metadata": {},
     "output_type": "execute_result"
    },
    {
     "data": {
      "image/png": "[encoded data removed]",
      "text/plain": [
       "<Figure size 432x432 with 3 Axes>"
      ]
     },
     "metadata": {},
     "output_type": "display_data"
    }
   ],
   "source": [
    "sns.jointplot(x = a_data['Rating'], y = a_data['Rating_Count'], data = a_data, color= 'green', height= 6)"
   ]
  },
  {
   "cell_type": "code",
   "execution_count": 21,
   "metadata": {
    "colab": {
     "base_uri": "https://localhost:8080/",
     "height": 204
    },
    "executionInfo": {
     "elapsed": 34,
     "status": "ok",
     "timestamp": 1623293433902,
     "user": {
      "displayName": "Suyog 8848",
      "photoUrl": "",
      "userId": "05362181243707880769"
     },
     "user_tz": -330
    },
    "id": "wzgMsrkovV5r",
    "outputId": "05d94a3d-3b8b-492a-c6c5-dec856c4abb2"
   },
   "outputs": [
    {
     "data": {
      "text/html": [
       "<div>\n",
       "<style scoped>\n",
       "    .dataframe tbody tr th:only-of-type {\n",
       "        vertical-align: middle;\n",
       "    }\n",
       "\n",
       "    .dataframe tbody tr th {\n",
       "        vertical-align: top;\n",
       "    }\n",
       "\n",
       "    .dataframe thead th {\n",
       "        text-align: right;\n",
       "    }\n",
       "</style>\n",
       "<table border=\"1\" class=\"dataframe\">\n",
       "  <thead>\n",
       "    <tr style=\"text-align: right;\">\n",
       "      <th></th>\n",
       "      <th>User_ID</th>\n",
       "      <th>Movie_ID</th>\n",
       "      <th>Rating</th>\n",
       "      <th>Timestamp</th>\n",
       "      <th>Movie_Title</th>\n",
       "      <th>Genre</th>\n",
       "    </tr>\n",
       "  </thead>\n",
       "  <tbody>\n",
       "    <tr>\n",
       "      <th>0</th>\n",
       "      <td>1</td>\n",
       "      <td>122</td>\n",
       "      <td>5.0</td>\n",
       "      <td>838985046</td>\n",
       "      <td>Boomerang (1992)</td>\n",
       "      <td>Comedy|Romance</td>\n",
       "    </tr>\n",
       "    <tr>\n",
       "      <th>1</th>\n",
       "      <td>139</td>\n",
       "      <td>122</td>\n",
       "      <td>3.0</td>\n",
       "      <td>974302621</td>\n",
       "      <td>Boomerang (1992)</td>\n",
       "      <td>Comedy|Romance</td>\n",
       "    </tr>\n",
       "    <tr>\n",
       "      <th>2</th>\n",
       "      <td>149</td>\n",
       "      <td>122</td>\n",
       "      <td>2.5</td>\n",
       "      <td>1112342322</td>\n",
       "      <td>Boomerang (1992)</td>\n",
       "      <td>Comedy|Romance</td>\n",
       "    </tr>\n",
       "    <tr>\n",
       "      <th>3</th>\n",
       "      <td>182</td>\n",
       "      <td>122</td>\n",
       "      <td>3.0</td>\n",
       "      <td>943458784</td>\n",
       "      <td>Boomerang (1992)</td>\n",
       "      <td>Comedy|Romance</td>\n",
       "    </tr>\n",
       "    <tr>\n",
       "      <th>4</th>\n",
       "      <td>215</td>\n",
       "      <td>122</td>\n",
       "      <td>4.5</td>\n",
       "      <td>1102493547</td>\n",
       "      <td>Boomerang (1992)</td>\n",
       "      <td>Comedy|Romance</td>\n",
       "    </tr>\n",
       "  </tbody>\n",
       "</table>\n",
       "</div>"
      ],
      "text/plain": [
       "   User_ID  Movie_ID  Rating   Timestamp       Movie_Title           Genre\n",
       "0        1       122     5.0   838985046  Boomerang (1992)  Comedy|Romance\n",
       "1      139       122     3.0   974302621  Boomerang (1992)  Comedy|Romance\n",
       "2      149       122     2.5  1112342322  Boomerang (1992)  Comedy|Romance\n",
       "3      182       122     3.0   943458784  Boomerang (1992)  Comedy|Romance\n",
       "4      215       122     4.5  1102493547  Boomerang (1992)  Comedy|Romance"
      ]
     },
     "execution_count": 21,
     "metadata": {},
     "output_type": "execute_result"
    }
   ],
   "source": [
    "data.head()"
   ]
  },
  {
   "cell_type": "code",
   "execution_count": null,
   "metadata": {
    "colab": {
     "base_uri": "https://localhost:8080/"
    },
    "executionInfo": {
     "elapsed": 33,
     "status": "ok",
     "timestamp": 1623293433904,
     "user": {
      "displayName": "Suyog 8848",
      "photoUrl": "",
      "userId": "05362181243707880769"
     },
     "user_tz": -330
    },
    "id": "kl6t4ofm0yT1",
    "outputId": "49f22cb4-d85d-4a69-b57e-2fdb7580bf3e"
   },
   "outputs": [],
   "source": []
  },
  {
   "cell_type": "code",
   "execution_count": 22,
   "metadata": {
    "id": "i56yPRe1yvJC"
   },
   "outputs": [],
   "source": [
    "rating_matrix = data.pivot_table(values = 'Rating', index = 'User_ID', columns = 'Movie_Title')"
   ]
  },
  {
   "cell_type": "code",
   "execution_count": 23,
   "metadata": {
    "id": "ou4q0cT3zK1D"
   },
   "outputs": [
    {
     "data": {
      "text/html": [
       "<div>\n",
       "<style scoped>\n",
       "    .dataframe tbody tr th:only-of-type {\n",
       "        vertical-align: middle;\n",
       "    }\n",
       "\n",
       "    .dataframe tbody tr th {\n",
       "        vertical-align: top;\n",
       "    }\n",
       "\n",
       "    .dataframe thead th {\n",
       "        text-align: right;\n",
       "    }\n",
       "</style>\n",
       "<table border=\"1\" class=\"dataframe\">\n",
       "  <thead>\n",
       "    <tr style=\"text-align: right;\">\n",
       "      <th>Movie_Title</th>\n",
       "      <th>\"Great Performances\" Cats (1998)</th>\n",
       "      <th>'Round Midnight (1986)</th>\n",
       "      <th>'Til There Was You (1997)</th>\n",
       "      <th>'burbs, The (1989)</th>\n",
       "      <th>'night Mother (1986)</th>\n",
       "      <th>*batteries not included (1987)</th>\n",
       "      <th>...All the Marbles (a.k.a. The California Dolls) (1981)</th>\n",
       "      <th>...And God Created Woman (Et Dieu... crÃ©a la femme) (1956)</th>\n",
       "      <th>...And God Spoke (1993)</th>\n",
       "      <th>...And Justice for All (1979)</th>\n",
       "      <th>...</th>\n",
       "      <th>Zorba the Greek (Alexis Zorbas) (1964)</th>\n",
       "      <th>Zorro, the Gay Blade (1981)</th>\n",
       "      <th>Zulu (1964)</th>\n",
       "      <th>Zus &amp; Zo (2001)</th>\n",
       "      <th>[Rec] (2007)</th>\n",
       "      <th>eXistenZ (1999)</th>\n",
       "      <th>ffolks (a.k.a. North Sea Hijack) (1980)</th>\n",
       "      <th>loudQUIETloud: A Film About the Pixies (2006)</th>\n",
       "      <th>xXx: State of the Union (2005)</th>\n",
       "      <th>Ã‚ge d'or, L' (1930)</th>\n",
       "    </tr>\n",
       "    <tr>\n",
       "      <th>User_ID</th>\n",
       "      <th></th>\n",
       "      <th></th>\n",
       "      <th></th>\n",
       "      <th></th>\n",
       "      <th></th>\n",
       "      <th></th>\n",
       "      <th></th>\n",
       "      <th></th>\n",
       "      <th></th>\n",
       "      <th></th>\n",
       "      <th></th>\n",
       "      <th></th>\n",
       "      <th></th>\n",
       "      <th></th>\n",
       "      <th></th>\n",
       "      <th></th>\n",
       "      <th></th>\n",
       "      <th></th>\n",
       "      <th></th>\n",
       "      <th></th>\n",
       "      <th></th>\n",
       "    </tr>\n",
       "  </thead>\n",
       "  <tbody>\n",
       "    <tr>\n",
       "      <th>1</th>\n",
       "      <td>NaN</td>\n",
       "      <td>NaN</td>\n",
       "      <td>NaN</td>\n",
       "      <td>NaN</td>\n",
       "      <td>NaN</td>\n",
       "      <td>NaN</td>\n",
       "      <td>NaN</td>\n",
       "      <td>NaN</td>\n",
       "      <td>NaN</td>\n",
       "      <td>NaN</td>\n",
       "      <td>...</td>\n",
       "      <td>NaN</td>\n",
       "      <td>NaN</td>\n",
       "      <td>NaN</td>\n",
       "      <td>NaN</td>\n",
       "      <td>NaN</td>\n",
       "      <td>NaN</td>\n",
       "      <td>NaN</td>\n",
       "      <td>NaN</td>\n",
       "      <td>NaN</td>\n",
       "      <td>NaN</td>\n",
       "    </tr>\n",
       "    <tr>\n",
       "      <th>2</th>\n",
       "      <td>NaN</td>\n",
       "      <td>NaN</td>\n",
       "      <td>NaN</td>\n",
       "      <td>NaN</td>\n",
       "      <td>NaN</td>\n",
       "      <td>NaN</td>\n",
       "      <td>NaN</td>\n",
       "      <td>NaN</td>\n",
       "      <td>NaN</td>\n",
       "      <td>NaN</td>\n",
       "      <td>...</td>\n",
       "      <td>NaN</td>\n",
       "      <td>NaN</td>\n",
       "      <td>NaN</td>\n",
       "      <td>NaN</td>\n",
       "      <td>NaN</td>\n",
       "      <td>NaN</td>\n",
       "      <td>NaN</td>\n",
       "      <td>NaN</td>\n",
       "      <td>NaN</td>\n",
       "      <td>NaN</td>\n",
       "    </tr>\n",
       "    <tr>\n",
       "      <th>3</th>\n",
       "      <td>NaN</td>\n",
       "      <td>NaN</td>\n",
       "      <td>NaN</td>\n",
       "      <td>NaN</td>\n",
       "      <td>NaN</td>\n",
       "      <td>NaN</td>\n",
       "      <td>NaN</td>\n",
       "      <td>NaN</td>\n",
       "      <td>NaN</td>\n",
       "      <td>NaN</td>\n",
       "      <td>...</td>\n",
       "      <td>NaN</td>\n",
       "      <td>NaN</td>\n",
       "      <td>NaN</td>\n",
       "      <td>NaN</td>\n",
       "      <td>NaN</td>\n",
       "      <td>NaN</td>\n",
       "      <td>NaN</td>\n",
       "      <td>NaN</td>\n",
       "      <td>NaN</td>\n",
       "      <td>NaN</td>\n",
       "    </tr>\n",
       "    <tr>\n",
       "      <th>4</th>\n",
       "      <td>NaN</td>\n",
       "      <td>NaN</td>\n",
       "      <td>NaN</td>\n",
       "      <td>NaN</td>\n",
       "      <td>NaN</td>\n",
       "      <td>NaN</td>\n",
       "      <td>NaN</td>\n",
       "      <td>NaN</td>\n",
       "      <td>NaN</td>\n",
       "      <td>NaN</td>\n",
       "      <td>...</td>\n",
       "      <td>NaN</td>\n",
       "      <td>NaN</td>\n",
       "      <td>NaN</td>\n",
       "      <td>NaN</td>\n",
       "      <td>NaN</td>\n",
       "      <td>NaN</td>\n",
       "      <td>NaN</td>\n",
       "      <td>NaN</td>\n",
       "      <td>NaN</td>\n",
       "      <td>NaN</td>\n",
       "    </tr>\n",
       "    <tr>\n",
       "      <th>5</th>\n",
       "      <td>NaN</td>\n",
       "      <td>NaN</td>\n",
       "      <td>NaN</td>\n",
       "      <td>NaN</td>\n",
       "      <td>NaN</td>\n",
       "      <td>NaN</td>\n",
       "      <td>NaN</td>\n",
       "      <td>NaN</td>\n",
       "      <td>NaN</td>\n",
       "      <td>NaN</td>\n",
       "      <td>...</td>\n",
       "      <td>NaN</td>\n",
       "      <td>NaN</td>\n",
       "      <td>NaN</td>\n",
       "      <td>NaN</td>\n",
       "      <td>NaN</td>\n",
       "      <td>NaN</td>\n",
       "      <td>NaN</td>\n",
       "      <td>NaN</td>\n",
       "      <td>NaN</td>\n",
       "      <td>NaN</td>\n",
       "    </tr>\n",
       "    <tr>\n",
       "      <th>...</th>\n",
       "      <td>...</td>\n",
       "      <td>...</td>\n",
       "      <td>...</td>\n",
       "      <td>...</td>\n",
       "      <td>...</td>\n",
       "      <td>...</td>\n",
       "      <td>...</td>\n",
       "      <td>...</td>\n",
       "      <td>...</td>\n",
       "      <td>...</td>\n",
       "      <td>...</td>\n",
       "      <td>...</td>\n",
       "      <td>...</td>\n",
       "      <td>...</td>\n",
       "      <td>...</td>\n",
       "      <td>...</td>\n",
       "      <td>...</td>\n",
       "      <td>...</td>\n",
       "      <td>...</td>\n",
       "      <td>...</td>\n",
       "      <td>...</td>\n",
       "    </tr>\n",
       "    <tr>\n",
       "      <th>71563</th>\n",
       "      <td>NaN</td>\n",
       "      <td>NaN</td>\n",
       "      <td>NaN</td>\n",
       "      <td>NaN</td>\n",
       "      <td>NaN</td>\n",
       "      <td>NaN</td>\n",
       "      <td>NaN</td>\n",
       "      <td>NaN</td>\n",
       "      <td>NaN</td>\n",
       "      <td>NaN</td>\n",
       "      <td>...</td>\n",
       "      <td>NaN</td>\n",
       "      <td>NaN</td>\n",
       "      <td>NaN</td>\n",
       "      <td>NaN</td>\n",
       "      <td>NaN</td>\n",
       "      <td>NaN</td>\n",
       "      <td>NaN</td>\n",
       "      <td>NaN</td>\n",
       "      <td>NaN</td>\n",
       "      <td>NaN</td>\n",
       "    </tr>\n",
       "    <tr>\n",
       "      <th>71564</th>\n",
       "      <td>NaN</td>\n",
       "      <td>NaN</td>\n",
       "      <td>NaN</td>\n",
       "      <td>NaN</td>\n",
       "      <td>NaN</td>\n",
       "      <td>NaN</td>\n",
       "      <td>NaN</td>\n",
       "      <td>NaN</td>\n",
       "      <td>NaN</td>\n",
       "      <td>NaN</td>\n",
       "      <td>...</td>\n",
       "      <td>NaN</td>\n",
       "      <td>NaN</td>\n",
       "      <td>NaN</td>\n",
       "      <td>NaN</td>\n",
       "      <td>NaN</td>\n",
       "      <td>NaN</td>\n",
       "      <td>NaN</td>\n",
       "      <td>NaN</td>\n",
       "      <td>NaN</td>\n",
       "      <td>NaN</td>\n",
       "    </tr>\n",
       "    <tr>\n",
       "      <th>71565</th>\n",
       "      <td>NaN</td>\n",
       "      <td>NaN</td>\n",
       "      <td>NaN</td>\n",
       "      <td>NaN</td>\n",
       "      <td>NaN</td>\n",
       "      <td>NaN</td>\n",
       "      <td>NaN</td>\n",
       "      <td>NaN</td>\n",
       "      <td>NaN</td>\n",
       "      <td>NaN</td>\n",
       "      <td>...</td>\n",
       "      <td>NaN</td>\n",
       "      <td>NaN</td>\n",
       "      <td>NaN</td>\n",
       "      <td>NaN</td>\n",
       "      <td>NaN</td>\n",
       "      <td>NaN</td>\n",
       "      <td>NaN</td>\n",
       "      <td>NaN</td>\n",
       "      <td>NaN</td>\n",
       "      <td>NaN</td>\n",
       "    </tr>\n",
       "    <tr>\n",
       "      <th>71566</th>\n",
       "      <td>NaN</td>\n",
       "      <td>NaN</td>\n",
       "      <td>NaN</td>\n",
       "      <td>NaN</td>\n",
       "      <td>NaN</td>\n",
       "      <td>NaN</td>\n",
       "      <td>NaN</td>\n",
       "      <td>NaN</td>\n",
       "      <td>NaN</td>\n",
       "      <td>NaN</td>\n",
       "      <td>...</td>\n",
       "      <td>NaN</td>\n",
       "      <td>NaN</td>\n",
       "      <td>NaN</td>\n",
       "      <td>NaN</td>\n",
       "      <td>NaN</td>\n",
       "      <td>NaN</td>\n",
       "      <td>NaN</td>\n",
       "      <td>NaN</td>\n",
       "      <td>NaN</td>\n",
       "      <td>NaN</td>\n",
       "    </tr>\n",
       "    <tr>\n",
       "      <th>71567</th>\n",
       "      <td>NaN</td>\n",
       "      <td>NaN</td>\n",
       "      <td>NaN</td>\n",
       "      <td>NaN</td>\n",
       "      <td>NaN</td>\n",
       "      <td>NaN</td>\n",
       "      <td>NaN</td>\n",
       "      <td>NaN</td>\n",
       "      <td>NaN</td>\n",
       "      <td>NaN</td>\n",
       "      <td>...</td>\n",
       "      <td>NaN</td>\n",
       "      <td>NaN</td>\n",
       "      <td>NaN</td>\n",
       "      <td>NaN</td>\n",
       "      <td>NaN</td>\n",
       "      <td>NaN</td>\n",
       "      <td>NaN</td>\n",
       "      <td>NaN</td>\n",
       "      <td>NaN</td>\n",
       "      <td>NaN</td>\n",
       "    </tr>\n",
       "  </tbody>\n",
       "</table>\n",
       "<p>69878 rows × 10676 columns</p>\n",
       "</div>"
      ],
      "text/plain": [
       "Movie_Title  \"Great Performances\" Cats (1998)  'Round Midnight (1986)  \\\n",
       "User_ID                                                                 \n",
       "1                                         NaN                     NaN   \n",
       "2                                         NaN                     NaN   \n",
       "3                                         NaN                     NaN   \n",
       "4                                         NaN                     NaN   \n",
       "5                                         NaN                     NaN   \n",
       "...                                       ...                     ...   \n",
       "71563                                     NaN                     NaN   \n",
       "71564                                     NaN                     NaN   \n",
       "71565                                     NaN                     NaN   \n",
       "71566                                     NaN                     NaN   \n",
       "71567                                     NaN                     NaN   \n",
       "\n",
       "Movie_Title  'Til There Was You (1997)  'burbs, The (1989)  \\\n",
       "User_ID                                                      \n",
       "1                                  NaN                 NaN   \n",
       "2                                  NaN                 NaN   \n",
       "3                                  NaN                 NaN   \n",
       "4                                  NaN                 NaN   \n",
       "5                                  NaN                 NaN   \n",
       "...                                ...                 ...   \n",
       "71563                              NaN                 NaN   \n",
       "71564                              NaN                 NaN   \n",
       "71565                              NaN                 NaN   \n",
       "71566                              NaN                 NaN   \n",
       "71567                              NaN                 NaN   \n",
       "\n",
       "Movie_Title  'night Mother (1986)  *batteries not included (1987)  \\\n",
       "User_ID                                                             \n",
       "1                             NaN                             NaN   \n",
       "2                             NaN                             NaN   \n",
       "3                             NaN                             NaN   \n",
       "4                             NaN                             NaN   \n",
       "5                             NaN                             NaN   \n",
       "...                           ...                             ...   \n",
       "71563                         NaN                             NaN   \n",
       "71564                         NaN                             NaN   \n",
       "71565                         NaN                             NaN   \n",
       "71566                         NaN                             NaN   \n",
       "71567                         NaN                             NaN   \n",
       "\n",
       "Movie_Title  ...All the Marbles (a.k.a. The California Dolls) (1981)  \\\n",
       "User_ID                                                                \n",
       "1                                                          NaN         \n",
       "2                                                          NaN         \n",
       "3                                                          NaN         \n",
       "4                                                          NaN         \n",
       "5                                                          NaN         \n",
       "...                                                        ...         \n",
       "71563                                                      NaN         \n",
       "71564                                                      NaN         \n",
       "71565                                                      NaN         \n",
       "71566                                                      NaN         \n",
       "71567                                                      NaN         \n",
       "\n",
       "Movie_Title  ...And God Created Woman (Et Dieu... crÃ©a la femme) (1956)  \\\n",
       "User_ID                                                                    \n",
       "1                                                          NaN             \n",
       "2                                                          NaN             \n",
       "3                                                          NaN             \n",
       "4                                                          NaN             \n",
       "5                                                          NaN             \n",
       "...                                                        ...             \n",
       "71563                                                      NaN             \n",
       "71564                                                      NaN             \n",
       "71565                                                      NaN             \n",
       "71566                                                      NaN             \n",
       "71567                                                      NaN             \n",
       "\n",
       "Movie_Title  ...And God Spoke (1993)  ...And Justice for All (1979)  ...  \\\n",
       "User_ID                                                              ...   \n",
       "1                                NaN                            NaN  ...   \n",
       "2                                NaN                            NaN  ...   \n",
       "3                                NaN                            NaN  ...   \n",
       "4                                NaN                            NaN  ...   \n",
       "5                                NaN                            NaN  ...   \n",
       "...                              ...                            ...  ...   \n",
       "71563                            NaN                            NaN  ...   \n",
       "71564                            NaN                            NaN  ...   \n",
       "71565                            NaN                            NaN  ...   \n",
       "71566                            NaN                            NaN  ...   \n",
       "71567                            NaN                            NaN  ...   \n",
       "\n",
       "Movie_Title  Zorba the Greek (Alexis Zorbas) (1964)  \\\n",
       "User_ID                                               \n",
       "1                                               NaN   \n",
       "2                                               NaN   \n",
       "3                                               NaN   \n",
       "4                                               NaN   \n",
       "5                                               NaN   \n",
       "...                                             ...   \n",
       "71563                                           NaN   \n",
       "71564                                           NaN   \n",
       "71565                                           NaN   \n",
       "71566                                           NaN   \n",
       "71567                                           NaN   \n",
       "\n",
       "Movie_Title  Zorro, the Gay Blade (1981)  Zulu (1964)  Zus & Zo (2001)  \\\n",
       "User_ID                                                                  \n",
       "1                                    NaN          NaN              NaN   \n",
       "2                                    NaN          NaN              NaN   \n",
       "3                                    NaN          NaN              NaN   \n",
       "4                                    NaN          NaN              NaN   \n",
       "5                                    NaN          NaN              NaN   \n",
       "...                                  ...          ...              ...   \n",
       "71563                                NaN          NaN              NaN   \n",
       "71564                                NaN          NaN              NaN   \n",
       "71565                                NaN          NaN              NaN   \n",
       "71566                                NaN          NaN              NaN   \n",
       "71567                                NaN          NaN              NaN   \n",
       "\n",
       "Movie_Title  [Rec] (2007)  eXistenZ (1999)  \\\n",
       "User_ID                                      \n",
       "1                     NaN              NaN   \n",
       "2                     NaN              NaN   \n",
       "3                     NaN              NaN   \n",
       "4                     NaN              NaN   \n",
       "5                     NaN              NaN   \n",
       "...                   ...              ...   \n",
       "71563                 NaN              NaN   \n",
       "71564                 NaN              NaN   \n",
       "71565                 NaN              NaN   \n",
       "71566                 NaN              NaN   \n",
       "71567                 NaN              NaN   \n",
       "\n",
       "Movie_Title  ffolks (a.k.a. North Sea Hijack) (1980)  \\\n",
       "User_ID                                                \n",
       "1                                                NaN   \n",
       "2                                                NaN   \n",
       "3                                                NaN   \n",
       "4                                                NaN   \n",
       "5                                                NaN   \n",
       "...                                              ...   \n",
       "71563                                            NaN   \n",
       "71564                                            NaN   \n",
       "71565                                            NaN   \n",
       "71566                                            NaN   \n",
       "71567                                            NaN   \n",
       "\n",
       "Movie_Title  loudQUIETloud: A Film About the Pixies (2006)  \\\n",
       "User_ID                                                      \n",
       "1                                                      NaN   \n",
       "2                                                      NaN   \n",
       "3                                                      NaN   \n",
       "4                                                      NaN   \n",
       "5                                                      NaN   \n",
       "...                                                    ...   \n",
       "71563                                                  NaN   \n",
       "71564                                                  NaN   \n",
       "71565                                                  NaN   \n",
       "71566                                                  NaN   \n",
       "71567                                                  NaN   \n",
       "\n",
       "Movie_Title  xXx: State of the Union (2005)  Ã‚ge d'or, L' (1930)  \n",
       "User_ID                                                            \n",
       "1                                       NaN                   NaN  \n",
       "2                                       NaN                   NaN  \n",
       "3                                       NaN                   NaN  \n",
       "4                                       NaN                   NaN  \n",
       "5                                       NaN                   NaN  \n",
       "...                                     ...                   ...  \n",
       "71563                                   NaN                   NaN  \n",
       "71564                                   NaN                   NaN  \n",
       "71565                                   NaN                   NaN  \n",
       "71566                                   NaN                   NaN  \n",
       "71567                                   NaN                   NaN  \n",
       "\n",
       "[69878 rows x 10676 columns]"
      ]
     },
     "execution_count": 23,
     "metadata": {},
     "output_type": "execute_result"
    }
   ],
   "source": [
    "rating_matrix"
   ]
  },
  {
   "cell_type": "code",
   "execution_count": 31,
   "metadata": {},
   "outputs": [
    {
     "data": {
      "text/html": [
       "<div>\n",
       "<style scoped>\n",
       "    .dataframe tbody tr th:only-of-type {\n",
       "        vertical-align: middle;\n",
       "    }\n",
       "\n",
       "    .dataframe tbody tr th {\n",
       "        vertical-align: top;\n",
       "    }\n",
       "\n",
       "    .dataframe thead th {\n",
       "        text-align: right;\n",
       "    }\n",
       "</style>\n",
       "<table border=\"1\" class=\"dataframe\">\n",
       "  <thead>\n",
       "    <tr style=\"text-align: right;\">\n",
       "      <th></th>\n",
       "      <th>Rating</th>\n",
       "      <th>Rating_Count</th>\n",
       "    </tr>\n",
       "    <tr>\n",
       "      <th>Movie_Title</th>\n",
       "      <th></th>\n",
       "      <th></th>\n",
       "    </tr>\n",
       "  </thead>\n",
       "  <tbody>\n",
       "    <tr>\n",
       "      <th>Pulp Fiction (1994)</th>\n",
       "      <td>4.157426</td>\n",
       "      <td>34864</td>\n",
       "    </tr>\n",
       "    <tr>\n",
       "      <th>Forrest Gump (1994)</th>\n",
       "      <td>4.013582</td>\n",
       "      <td>34457</td>\n",
       "    </tr>\n",
       "    <tr>\n",
       "      <th>Silence of the Lambs, The (1991)</th>\n",
       "      <td>4.204200</td>\n",
       "      <td>33668</td>\n",
       "    </tr>\n",
       "    <tr>\n",
       "      <th>Jurassic Park (1993)</th>\n",
       "      <td>3.661564</td>\n",
       "      <td>32631</td>\n",
       "    </tr>\n",
       "    <tr>\n",
       "      <th>Shawshank Redemption, The (1994)</th>\n",
       "      <td>4.457238</td>\n",
       "      <td>31126</td>\n",
       "    </tr>\n",
       "    <tr>\n",
       "      <th>Braveheart (1995)</th>\n",
       "      <td>4.082390</td>\n",
       "      <td>29154</td>\n",
       "    </tr>\n",
       "    <tr>\n",
       "      <th>Fugitive, The (1993)</th>\n",
       "      <td>4.006925</td>\n",
       "      <td>28951</td>\n",
       "    </tr>\n",
       "    <tr>\n",
       "      <th>Terminator 2: Judgment Day (1991)</th>\n",
       "      <td>3.927698</td>\n",
       "      <td>28948</td>\n",
       "    </tr>\n",
       "    <tr>\n",
       "      <th>Star Wars: Episode IV - A New Hope (a.k.a. Star Wars) (1977)</th>\n",
       "      <td>4.220209</td>\n",
       "      <td>28566</td>\n",
       "    </tr>\n",
       "    <tr>\n",
       "      <th>Apollo 13 (1995)</th>\n",
       "      <td>3.887350</td>\n",
       "      <td>27035</td>\n",
       "    </tr>\n",
       "    <tr>\n",
       "      <th>Batman (1989)</th>\n",
       "      <td>3.386557</td>\n",
       "      <td>26996</td>\n",
       "    </tr>\n",
       "    <tr>\n",
       "      <th>Toy Story (1995)</th>\n",
       "      <td>3.928769</td>\n",
       "      <td>26449</td>\n",
       "    </tr>\n",
       "    <tr>\n",
       "      <th>Independence Day (a.k.a. ID4) (1996)</th>\n",
       "      <td>3.375931</td>\n",
       "      <td>26042</td>\n",
       "    </tr>\n",
       "    <tr>\n",
       "      <th>Dances with Wolves (1990)</th>\n",
       "      <td>3.742108</td>\n",
       "      <td>25912</td>\n",
       "    </tr>\n",
       "    <tr>\n",
       "      <th>Schindler's List (1993)</th>\n",
       "      <td>4.363483</td>\n",
       "      <td>25777</td>\n",
       "    </tr>\n",
       "    <tr>\n",
       "      <th>True Lies (1994)</th>\n",
       "      <td>3.500315</td>\n",
       "      <td>25381</td>\n",
       "    </tr>\n",
       "    <tr>\n",
       "      <th>Star Wars: Episode VI - Return of the Jedi (1983)</th>\n",
       "      <td>3.996354</td>\n",
       "      <td>25098</td>\n",
       "    </tr>\n",
       "    <tr>\n",
       "      <th>12 Monkeys (Twelve Monkeys) (1995)</th>\n",
       "      <td>3.875067</td>\n",
       "      <td>24397</td>\n",
       "    </tr>\n",
       "    <tr>\n",
       "      <th>Usual Suspects, The (1995)</th>\n",
       "      <td>4.367142</td>\n",
       "      <td>24037</td>\n",
       "    </tr>\n",
       "    <tr>\n",
       "      <th>Fargo (1996)</th>\n",
       "      <td>4.133353</td>\n",
       "      <td>23794</td>\n",
       "    </tr>\n",
       "  </tbody>\n",
       "</table>\n",
       "</div>"
      ],
      "text/plain": [
       "                                                      Rating  Rating_Count\n",
       "Movie_Title                                                               \n",
       "Pulp Fiction (1994)                                 4.157426         34864\n",
       "Forrest Gump (1994)                                 4.013582         34457\n",
       "Silence of the Lambs, The (1991)                    4.204200         33668\n",
       "Jurassic Park (1993)                                3.661564         32631\n",
       "Shawshank Redemption, The (1994)                    4.457238         31126\n",
       "Braveheart (1995)                                   4.082390         29154\n",
       "Fugitive, The (1993)                                4.006925         28951\n",
       "Terminator 2: Judgment Day (1991)                   3.927698         28948\n",
       "Star Wars: Episode IV - A New Hope (a.k.a. Star...  4.220209         28566\n",
       "Apollo 13 (1995)                                    3.887350         27035\n",
       "Batman (1989)                                       3.386557         26996\n",
       "Toy Story (1995)                                    3.928769         26449\n",
       "Independence Day (a.k.a. ID4) (1996)                3.375931         26042\n",
       "Dances with Wolves (1990)                           3.742108         25912\n",
       "Schindler's List (1993)                             4.363483         25777\n",
       "True Lies (1994)                                    3.500315         25381\n",
       "Star Wars: Episode VI - Return of the Jedi (1983)   3.996354         25098\n",
       "12 Monkeys (Twelve Monkeys) (1995)                  3.875067         24397\n",
       "Usual Suspects, The (1995)                          4.367142         24037\n",
       "Fargo (1996)                                        4.133353         23794"
      ]
     },
     "execution_count": 31,
     "metadata": {},
     "output_type": "execute_result"
    }
   ],
   "source": [
    "a_data.sort_values('Rating_Count', ascending = False).head(20)"
   ]
  },
  {
   "cell_type": "code",
   "execution_count": 38,
   "metadata": {},
   "outputs": [
    {
     "data": {
      "text/plain": [
       "User_ID\n",
       "1     NaN\n",
       "2     NaN\n",
       "3     NaN\n",
       "4     NaN\n",
       "5     NaN\n",
       "6     NaN\n",
       "7     NaN\n",
       "8     NaN\n",
       "9     NaN\n",
       "10    2.0\n",
       "Name: Pulp Fiction (1994), dtype: float64"
      ]
     },
     "execution_count": 38,
     "metadata": {},
     "output_type": "execute_result"
    }
   ],
   "source": [
    "pulp_fiction_rating = rating_matrix[\"Pulp Fiction (1994)\"]\n",
    "pulp_fiction_rating.head(10)"
   ]
  },
  {
   "cell_type": "code",
   "execution_count": 40,
   "metadata": {},
   "outputs": [],
   "source": [
    "pulp_corr = rating_matrix.corrwith(pulp_fiction_rating)"
   ]
  },
  {
   "cell_type": "code",
   "execution_count": 48,
   "metadata": {},
   "outputs": [],
   "source": [
    "corr_df = pd.DataFrame(pulp_corr,columns = ['Correlation'])"
   ]
  },
  {
   "cell_type": "code",
   "execution_count": 50,
   "metadata": {},
   "outputs": [
    {
     "data": {
      "text/html": [
       "<div>\n",
       "<style scoped>\n",
       "    .dataframe tbody tr th:only-of-type {\n",
       "        vertical-align: middle;\n",
       "    }\n",
       "\n",
       "    .dataframe tbody tr th {\n",
       "        vertical-align: top;\n",
       "    }\n",
       "\n",
       "    .dataframe thead th {\n",
       "        text-align: right;\n",
       "    }\n",
       "</style>\n",
       "<table border=\"1\" class=\"dataframe\">\n",
       "  <thead>\n",
       "    <tr style=\"text-align: right;\">\n",
       "      <th></th>\n",
       "      <th>Correlation</th>\n",
       "    </tr>\n",
       "    <tr>\n",
       "      <th>Movie_Title</th>\n",
       "      <th></th>\n",
       "    </tr>\n",
       "  </thead>\n",
       "  <tbody>\n",
       "    <tr>\n",
       "      <th>\"Great Performances\" Cats (1998)</th>\n",
       "      <td>0.917346</td>\n",
       "    </tr>\n",
       "    <tr>\n",
       "      <th>'Round Midnight (1986)</th>\n",
       "      <td>-0.056328</td>\n",
       "    </tr>\n",
       "    <tr>\n",
       "      <th>'Til There Was You (1997)</th>\n",
       "      <td>-0.091442</td>\n",
       "    </tr>\n",
       "    <tr>\n",
       "      <th>'burbs, The (1989)</th>\n",
       "      <td>0.032384</td>\n",
       "    </tr>\n",
       "    <tr>\n",
       "      <th>'night Mother (1986)</th>\n",
       "      <td>-0.005921</td>\n",
       "    </tr>\n",
       "  </tbody>\n",
       "</table>\n",
       "</div>"
      ],
      "text/plain": [
       "                                  Correlation\n",
       "Movie_Title                                  \n",
       "\"Great Performances\" Cats (1998)     0.917346\n",
       "'Round Midnight (1986)              -0.056328\n",
       "'Til There Was You (1997)           -0.091442\n",
       "'burbs, The (1989)                   0.032384\n",
       "'night Mother (1986)                -0.005921"
      ]
     },
     "execution_count": 50,
     "metadata": {},
     "output_type": "execute_result"
    }
   ],
   "source": [
    "corr_df.head()"
   ]
  },
  {
   "cell_type": "code",
   "execution_count": 54,
   "metadata": {},
   "outputs": [],
   "source": [
    "corr_df = corr_df.join(a_data['Rating_Count'])"
   ]
  },
  {
   "cell_type": "code",
   "execution_count": 55,
   "metadata": {},
   "outputs": [
    {
     "data": {
      "text/html": [
       "<div>\n",
       "<style scoped>\n",
       "    .dataframe tbody tr th:only-of-type {\n",
       "        vertical-align: middle;\n",
       "    }\n",
       "\n",
       "    .dataframe tbody tr th {\n",
       "        vertical-align: top;\n",
       "    }\n",
       "\n",
       "    .dataframe thead th {\n",
       "        text-align: right;\n",
       "    }\n",
       "</style>\n",
       "<table border=\"1\" class=\"dataframe\">\n",
       "  <thead>\n",
       "    <tr style=\"text-align: right;\">\n",
       "      <th></th>\n",
       "      <th>Correlation</th>\n",
       "      <th>Rating_Count</th>\n",
       "    </tr>\n",
       "    <tr>\n",
       "      <th>Movie_Title</th>\n",
       "      <th></th>\n",
       "      <th></th>\n",
       "    </tr>\n",
       "  </thead>\n",
       "  <tbody>\n",
       "    <tr>\n",
       "      <th>\"Great Performances\" Cats (1998)</th>\n",
       "      <td>0.917346</td>\n",
       "      <td>6</td>\n",
       "    </tr>\n",
       "    <tr>\n",
       "      <th>'Round Midnight (1986)</th>\n",
       "      <td>-0.056328</td>\n",
       "      <td>50</td>\n",
       "    </tr>\n",
       "    <tr>\n",
       "      <th>'Til There Was You (1997)</th>\n",
       "      <td>-0.091442</td>\n",
       "      <td>302</td>\n",
       "    </tr>\n",
       "    <tr>\n",
       "      <th>'burbs, The (1989)</th>\n",
       "      <td>0.032384</td>\n",
       "      <td>1504</td>\n",
       "    </tr>\n",
       "    <tr>\n",
       "      <th>'night Mother (1986)</th>\n",
       "      <td>-0.005921</td>\n",
       "      <td>211</td>\n",
       "    </tr>\n",
       "  </tbody>\n",
       "</table>\n",
       "</div>"
      ],
      "text/plain": [
       "                                  Correlation  Rating_Count\n",
       "Movie_Title                                                \n",
       "\"Great Performances\" Cats (1998)     0.917346             6\n",
       "'Round Midnight (1986)              -0.056328            50\n",
       "'Til There Was You (1997)           -0.091442           302\n",
       "'burbs, The (1989)                   0.032384          1504\n",
       "'night Mother (1986)                -0.005921           211"
      ]
     },
     "execution_count": 55,
     "metadata": {},
     "output_type": "execute_result"
    }
   ],
   "source": [
    "corr_df.head()"
   ]
  },
  {
   "cell_type": "code",
   "execution_count": 60,
   "metadata": {},
   "outputs": [
    {
     "data": {
      "text/html": [
       "<div>\n",
       "<style scoped>\n",
       "    .dataframe tbody tr th:only-of-type {\n",
       "        vertical-align: middle;\n",
       "    }\n",
       "\n",
       "    .dataframe tbody tr th {\n",
       "        vertical-align: top;\n",
       "    }\n",
       "\n",
       "    .dataframe thead th {\n",
       "        text-align: right;\n",
       "    }\n",
       "</style>\n",
       "<table border=\"1\" class=\"dataframe\">\n",
       "  <thead>\n",
       "    <tr style=\"text-align: right;\">\n",
       "      <th></th>\n",
       "      <th>Correlation</th>\n",
       "      <th>Rating_Count</th>\n",
       "    </tr>\n",
       "    <tr>\n",
       "      <th>Movie_Title</th>\n",
       "      <th></th>\n",
       "      <th></th>\n",
       "    </tr>\n",
       "  </thead>\n",
       "  <tbody>\n",
       "    <tr>\n",
       "      <th>Pulp Fiction (1994)</th>\n",
       "      <td>1.000000</td>\n",
       "      <td>34864</td>\n",
       "    </tr>\n",
       "    <tr>\n",
       "      <th>Reservoir Dogs (1992)</th>\n",
       "      <td>0.512427</td>\n",
       "      <td>13428</td>\n",
       "    </tr>\n",
       "    <tr>\n",
       "      <th>Kill Bill: Vol. 1 (2003)</th>\n",
       "      <td>0.425147</td>\n",
       "      <td>8848</td>\n",
       "    </tr>\n",
       "    <tr>\n",
       "      <th>Kill Bill: Vol. 2 (2004)</th>\n",
       "      <td>0.403495</td>\n",
       "      <td>7555</td>\n",
       "    </tr>\n",
       "    <tr>\n",
       "      <th>Trainspotting (1996)</th>\n",
       "      <td>0.354460</td>\n",
       "      <td>11791</td>\n",
       "    </tr>\n",
       "    <tr>\n",
       "      <th>...</th>\n",
       "      <td>...</td>\n",
       "      <td>...</td>\n",
       "    </tr>\n",
       "    <tr>\n",
       "      <th>Jungle2Jungle (a.k.a. Jungle 2 Jungle) (1997)</th>\n",
       "      <td>-0.221986</td>\n",
       "      <td>1058</td>\n",
       "    </tr>\n",
       "    <tr>\n",
       "      <th>Kid in King Arthur's Court, A (1995)</th>\n",
       "      <td>-0.226605</td>\n",
       "      <td>1046</td>\n",
       "    </tr>\n",
       "    <tr>\n",
       "      <th>Man of the House (1995)</th>\n",
       "      <td>-0.235133</td>\n",
       "      <td>732</td>\n",
       "    </tr>\n",
       "    <tr>\n",
       "      <th>Free Willy 2: The Adventure Home (1995)</th>\n",
       "      <td>-0.239990</td>\n",
       "      <td>1815</td>\n",
       "    </tr>\n",
       "    <tr>\n",
       "      <th>Big Green, The (1995)</th>\n",
       "      <td>-0.336207</td>\n",
       "      <td>566</td>\n",
       "    </tr>\n",
       "  </tbody>\n",
       "</table>\n",
       "<p>3005 rows × 2 columns</p>\n",
       "</div>"
      ],
      "text/plain": [
       "                                               Correlation  Rating_Count\n",
       "Movie_Title                                                             \n",
       "Pulp Fiction (1994)                               1.000000         34864\n",
       "Reservoir Dogs (1992)                             0.512427         13428\n",
       "Kill Bill: Vol. 1 (2003)                          0.425147          8848\n",
       "Kill Bill: Vol. 2 (2004)                          0.403495          7555\n",
       "Trainspotting (1996)                              0.354460         11791\n",
       "...                                                    ...           ...\n",
       "Jungle2Jungle (a.k.a. Jungle 2 Jungle) (1997)    -0.221986          1058\n",
       "Kid in King Arthur's Court, A (1995)             -0.226605          1046\n",
       "Man of the House (1995)                          -0.235133           732\n",
       "Free Willy 2: The Adventure Home (1995)          -0.239990          1815\n",
       "Big Green, The (1995)                            -0.336207           566\n",
       "\n",
       "[3005 rows x 2 columns]"
      ]
     },
     "execution_count": 60,
     "metadata": {},
     "output_type": "execute_result"
    }
   ],
   "source": [
    "corr_df[corr_df['Rating_Count']>500].sort_values(['Correlation'],ascending = False)"
   ]
  },
  {
   "cell_type": "markdown",
   "metadata": {},
   "source": [
    "#### Prediction Function"
   ]
  },
  {
   "cell_type": "code",
   "execution_count": 61,
   "metadata": {},
   "outputs": [],
   "source": [
    "def predict_movie(movie_name):\n",
    "    movie_rating = rating_matrix[movie_name]\n",
    "    movie_corr = rating_matrix.corrwith(movie_rating)\n",
    "    movie_corr_df = pd.DataFrame(movie_corr,columns = ['Correlation'])\n",
    "    movie_corr_df = movie_corr_df.join(a_data['Rating_Count'])\n",
    "    sim_movies = movie_corr_df[movie_corr_df['Rating_Count']>500].sort_values(['Correlation'],ascending = False)\n",
    "    \n",
    "    return sim_movies\n",
    "    \n",
    "    \n",
    "    "
   ]
  },
  {
   "cell_type": "code",
   "execution_count": 65,
   "metadata": {},
   "outputs": [
    {
     "data": {
      "text/html": [
       "<div>\n",
       "<style scoped>\n",
       "    .dataframe tbody tr th:only-of-type {\n",
       "        vertical-align: middle;\n",
       "    }\n",
       "\n",
       "    .dataframe tbody tr th {\n",
       "        vertical-align: top;\n",
       "    }\n",
       "\n",
       "    .dataframe thead th {\n",
       "        text-align: right;\n",
       "    }\n",
       "</style>\n",
       "<table border=\"1\" class=\"dataframe\">\n",
       "  <thead>\n",
       "    <tr style=\"text-align: right;\">\n",
       "      <th></th>\n",
       "      <th>Correlation</th>\n",
       "      <th>Rating_Count</th>\n",
       "    </tr>\n",
       "    <tr>\n",
       "      <th>Movie_Title</th>\n",
       "      <th></th>\n",
       "      <th></th>\n",
       "    </tr>\n",
       "  </thead>\n",
       "  <tbody>\n",
       "    <tr>\n",
       "      <th>For Love or Money (1993)</th>\n",
       "      <td>1.0</td>\n",
       "      <td>589</td>\n",
       "    </tr>\n",
       "    <tr>\n",
       "      <th>Unstrung Heroes (1995)</th>\n",
       "      <td>1.0</td>\n",
       "      <td>874</td>\n",
       "    </tr>\n",
       "    <tr>\n",
       "      <th>My Family (1995)</th>\n",
       "      <td>1.0</td>\n",
       "      <td>603</td>\n",
       "    </tr>\n",
       "    <tr>\n",
       "      <th>Boys of St. Vincent, The (1992)</th>\n",
       "      <td>1.0</td>\n",
       "      <td>566</td>\n",
       "    </tr>\n",
       "    <tr>\n",
       "      <th>Return of Martin Guerre, The (Retour de Martin Guerre, Le) (1982)</th>\n",
       "      <td>1.0</td>\n",
       "      <td>1053</td>\n",
       "    </tr>\n",
       "    <tr>\n",
       "      <th>...</th>\n",
       "      <td>...</td>\n",
       "      <td>...</td>\n",
       "    </tr>\n",
       "    <tr>\n",
       "      <th>Paris Is Burning (1990)</th>\n",
       "      <td>NaN</td>\n",
       "      <td>644</td>\n",
       "    </tr>\n",
       "    <tr>\n",
       "      <th>Passion Fish (1992)</th>\n",
       "      <td>NaN</td>\n",
       "      <td>755</td>\n",
       "    </tr>\n",
       "    <tr>\n",
       "      <th>Strawberry and Chocolate (Fresa y chocolate) (1993)</th>\n",
       "      <td>NaN</td>\n",
       "      <td>624</td>\n",
       "    </tr>\n",
       "    <tr>\n",
       "      <th>Trip to Bountiful, The (1985)</th>\n",
       "      <td>NaN</td>\n",
       "      <td>695</td>\n",
       "    </tr>\n",
       "    <tr>\n",
       "      <th>Widows' Peak (1994)</th>\n",
       "      <td>NaN</td>\n",
       "      <td>786</td>\n",
       "    </tr>\n",
       "  </tbody>\n",
       "</table>\n",
       "<p>3005 rows × 2 columns</p>\n",
       "</div>"
      ],
      "text/plain": [
       "                                                    Correlation  Rating_Count\n",
       "Movie_Title                                                                  \n",
       "For Love or Money (1993)                                    1.0           589\n",
       "Unstrung Heroes (1995)                                      1.0           874\n",
       "My Family (1995)                                            1.0           603\n",
       "Boys of St. Vincent, The (1992)                             1.0           566\n",
       "Return of Martin Guerre, The (Retour de Martin ...          1.0          1053\n",
       "...                                                         ...           ...\n",
       "Paris Is Burning (1990)                                     NaN           644\n",
       "Passion Fish (1992)                                         NaN           755\n",
       "Strawberry and Chocolate (Fresa y chocolate) (1...          NaN           624\n",
       "Trip to Bountiful, The (1985)                               NaN           695\n",
       "Widows' Peak (1994)                                         NaN           786\n",
       "\n",
       "[3005 rows x 2 columns]"
      ]
     },
     "execution_count": 65,
     "metadata": {},
     "output_type": "execute_result"
    }
   ],
   "source": [
    "predict_movie(\"xXx: State of the Union (2005)\")"
   ]
  },
  {
   "cell_type": "code",
   "execution_count": 64,
   "metadata": {},
   "outputs": [
    {
     "data": {
      "text/plain": [
       "Index(['\"Great Performances\" Cats (1998)', ''Round Midnight (1986)',\n",
       "       ''Til There Was You (1997)', ''burbs, The (1989)',\n",
       "       ''night Mother (1986)', '*batteries not included (1987)',\n",
       "       '...All the Marbles (a.k.a. The California Dolls) (1981)',\n",
       "       '...And God Created Woman (Et Dieu... crÃ©a la femme) (1956)',\n",
       "       '...And God Spoke (1993)', '...And Justice for All (1979)',\n",
       "       ...\n",
       "       'Zorba the Greek (Alexis Zorbas) (1964)', 'Zorro, the Gay Blade (1981)',\n",
       "       'Zulu (1964)', 'Zus & Zo (2001)', '[Rec] (2007)', 'eXistenZ (1999)',\n",
       "       'ffolks (a.k.a. North Sea Hijack) (1980)',\n",
       "       'loudQUIETloud: A Film About the Pixies (2006)',\n",
       "       'xXx: State of the Union (2005)', 'Ã‚ge d'or, L' (1930)'],\n",
       "      dtype='object', name='Movie_Title', length=10676)"
      ]
     },
     "execution_count": 64,
     "metadata": {},
     "output_type": "execute_result"
    }
   ],
   "source": [
    "rating_matrix.columns"
   ]
  },
  {
   "cell_type": "code",
   "execution_count": null,
   "metadata": {},
   "outputs": [],
   "source": []
  }
 ],
 "metadata": {
  "accelerator": "GPU",
  "colab": {
   "collapsed_sections": [],
   "name": "Recommender System.ipynb",
   "provenance": []
  },
  "kernelspec": {
   "display_name": "Python 3",
   "language": "python",
   "name": "python3"
  },
  "language_info": {
   "codemirror_mode": {
    "name": "ipython",
    "version": 3
   },
   "file_extension": ".py",
   "mimetype": "text/x-python",
   "name": "python",
   "nbconvert_exporter": "python",
   "pygments_lexer": "ipython3",
   "version": "3.8.5"
  }
 },
 "nbformat": 4,
 "nbformat_minor": 1
}
